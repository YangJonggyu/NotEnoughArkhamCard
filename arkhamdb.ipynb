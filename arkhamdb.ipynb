{
 "cells": [
  {
   "cell_type": "code",
   "execution_count": 1,
   "outputs": [],
   "source": [
    "import requests\n",
    "import json\n",
    "from collections import defaultdict\n",
    "\n",
    "def fetch_and_parse_data(url):\n",
    "    response = requests.get(url)\n",
    "    data = json.loads(response.text)\n",
    "    return data\n",
    "\n",
    "def filter_and_extract_data(parsed_data, filtered_data):\n",
    "    for card in parsed_data:\n",
    "        if card['type_code'] in ['skill', 'asset', 'event']:\n",
    "            card_key = card['code']\n",
    "            if card_key not in filtered_data:\n",
    "                filtered_data[card_key] = {\n",
    "                    'name': card['name'],\n",
    "                    'quantity': card['quantity'],\n",
    "                    'code': card['code'],\n",
    "                    'xp': card.get('xp', 0)\n",
    "                }\n",
    "            else:\n",
    "                filtered_data[card_key]['quantity'] += card['quantity']\n",
    "    return filtered_data\n",
    "\n",
    "def fetch_and_filter_data(packs):\n",
    "    filtered_data = {}\n",
    "    base_url = 'https://ko.arkhamdb.com/api/public/cards/'\n",
    "    for pack in packs:\n",
    "        url = base_url + pack\n",
    "        parsed_data = fetch_and_parse_data(url)\n",
    "        filtered_data = filter_and_extract_data(parsed_data, filtered_data)\n",
    "    return filtered_data\n",
    "\n",
    "def fetch_decks(deck_ids):\n",
    "    deck_data = defaultdict(int)\n",
    "    for deck_id in deck_ids:\n",
    "        base_url = 'https://ko.arkhamdb.com/api/public/deck/'\n",
    "        url = base_url + deck_id\n",
    "        individual_deck_data = fetch_and_parse_data(url)\n",
    "        for card, quantity in individual_deck_data['slots'].items():\n",
    "            deck_data[card] += quantity\n",
    "    return deck_data\n",
    "\n",
    "def fetch_card_info(card_code):\n",
    "    base_url = 'https://ko.arkhamdb.com/api/public/card/'\n",
    "    url = base_url + card_code\n",
    "    card_data = fetch_and_parse_data(url)\n",
    "    return card_data\n",
    "\n",
    "def compare_cards(filtered_data, deck_data):\n",
    "    missing_cards = {}\n",
    "    for card, quantity in deck_data.items():\n",
    "        if card[0:3] == '010':\n",
    "            card = '015' + card[3:]\n",
    "        if card not in filtered_data or filtered_data[card]['quantity'] < quantity:\n",
    "            card_info = fetch_card_info(card)\n",
    "            if card_info.get('type_code','') in ['skill', 'asset', 'event']:\n",
    "                missing_cards[card_info['name']] = quantity - filtered_data.get(card,{}).get('quantity', 0)\n",
    "                print(card, card_info['name'],'는 ',quantity,'장이 필요하지만, ',filtered_data.get(card,{}).get('quantity', 0),'장만 있습니다.')\n",
    "    return missing_cards"
   ],
   "metadata": {
    "collapsed": false
   }
  },
  {
   "cell_type": "code",
   "execution_count": 2,
   "outputs": [
    {
     "name": "stdout",
     "output_type": "stream",
     "text": [
      "01517 체력 단련 는  3 장이 필요하지만,  2 장만 있습니다.\n",
      "01523 재빨리 피하다 는  4 장이 필요하지만,  2 장만 있습니다.\n",
      "01524 다이너마이트 폭발 는  3 장이 필요하지만,  2 장만 있습니다.\n",
      "01550 도피 는  4 장이 필요하지만,  2 장만 있습니다.\n",
      "01565 보호의 진 는  4 장이 필요하지만,  2 장만 있습니다.\n",
      "01593 뜻밖의 용기 는  6 장이 필요하지만,  4 장만 있습니다.\n",
      "02026 대박 아니면 쪽박 는  4 장이 필요하지만,  2 장만 있습니다.\n",
      "01533 밀란 크리스토퍼 박사 는  3 장이 필요하지만,  2 장만 있습니다.\n"
     ]
    }
   ],
   "source": [
    "packs = ['rcore', 'dwl', 'tmm', 'tece', 'uau', 'bota', 'wda', 'litas']  # replace with actual pack names\n",
    "deck_ids = ['2978726', '2978725', '2978724']  # replace with actual deck id\n",
    "\n",
    "filtered_data = fetch_and_filter_data(packs)\n",
    "deck_data = fetch_decks(deck_ids)\n",
    "\n",
    "missing_cards = compare_cards(filtered_data, deck_data)"
   ],
   "metadata": {
    "collapsed": false
   }
  },
  {
   "cell_type": "code",
   "execution_count": null,
   "outputs": [],
   "source": [
    "\n",
    "\n"
   ],
   "metadata": {
    "collapsed": false
   }
  }
 ],
 "metadata": {
  "kernelspec": {
   "display_name": "Python 3",
   "language": "python",
   "name": "python3"
  },
  "language_info": {
   "codemirror_mode": {
    "name": "ipython",
    "version": 2
   },
   "file_extension": ".py",
   "mimetype": "text/x-python",
   "name": "python",
   "nbconvert_exporter": "python",
   "pygments_lexer": "ipython2",
   "version": "2.7.6"
  }
 },
 "nbformat": 4,
 "nbformat_minor": 0
}
